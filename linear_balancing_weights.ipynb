{
  "cells": [
    {
      "cell_type": "markdown",
      "metadata": {},
      "source": [
        "# Linear Balancing weights"
      ]
    },
    {
      "cell_type": "code",
      "execution_count": 1,
      "metadata": {
        "colab": {},
        "colab_type": "code",
        "id": "hzy_rdy7WXyS"
      },
      "outputs": [],
      "source": [
        "import numpy as np\n",
        "import pandas as pd\n",
        "import matplotlib.pyplot as plt\n",
        "\n",
        "import empirical_calibration as ec # compare implementation - QBAL should be similar modulo simplex restriction\n",
        "\n",
        "# can also balance on nystrom-approx or kitchen-sink features\n",
        "import sklearn.kernel_approximation as ska\n"
      ]
    },
    {
      "cell_type": "code",
      "execution_count": 2,
      "metadata": {},
      "outputs": [],
      "source": [
        "def lbw(X0: np.array,\n",
        "        X1: np.array,\n",
        "        y: np.array = None,\n",
        "        w: np.array = None,\n",
        "        return_weights : bool = True) -> np.array:\n",
        "    \"\"\"Linear balancing weights\n",
        "\n",
        "    Args:\n",
        "        X0 (np.array): Covariate matrix for source population\n",
        "        X1 (np.array): Moments of target distribution\n",
        "        y (np.array): outcome vector (optional)\n",
        "        w (np.array): treatment vector (optional)\n",
        "\n",
        "    Returns:\n",
        "        if return_weights: np.array: weights\n",
        "        else: float: ATT estimate\n",
        "    \"\"\"\n",
        "    H00 = np.linalg.pinv(X0.T @ X0) @ X0.T\n",
        "    wt = X1 @ H00\n",
        "    if return_weights:\n",
        "        return wt\n",
        "    # return ATT if return_weights is False\n",
        "    return y[w == 1].mean() - np.average(y[w == 0], weights=wt)"
      ]
    },
    {
      "cell_type": "markdown",
      "metadata": {},
      "source": [
        "This formulation makes it clear that balancing weights can be solved for using only summary data from the target group (i.e. the covariate means for the treatment group for the ATT, or the covariate means for the target population under covariate shift)."
      ]
    },
    {
      "cell_type": "markdown",
      "metadata": {},
      "source": [
        "## Kline's examples\n",
        "\n",
        "'OLS is doubly-robust' result: results consistent for ATT if either outcome $Y^0$ or selection odds $\\frac{\\pi(X)}{1-\\pi(X)}$ linear in X.\n",
        "\n",
        "Replicating examples from [Kline (2011)](https://eml.berkeley.edu/~pkline/papers/OB_reweighting.pdf). Data and code [here](https://eml.berkeley.edu/~pkline/papers/Oaxaca_web.zip)."
      ]
    },
    {
      "cell_type": "code",
      "execution_count": 18,
      "metadata": {},
      "outputs": [
        {
          "name": "stdout",
          "output_type": "stream",
          "text": [
            "DiM: = 1794.3433\n"
          ]
        },
        {
          "data": {
            "text/plain": [
              "1784.7850412154503"
            ]
          },
          "execution_count": 18,
          "metadata": {},
          "output_type": "execute_result"
        }
      ],
      "source": [
        "df = pd.read_stata(\"nswre74.dta\")\n",
        "yn, wn = \"re78\", \"treat\"\n",
        "xn = df.columns.drop([yn, wn]).tolist()\n",
        "n = df.shape[0]\n",
        "y, w, X = df[yn].values, df[wn].values, np.c_[np.ones(n), df[xn].values]\n",
        "print(\"DiM: =\", y[w == 1].mean() - y[w == 0].mean())\n",
        "# control covariate matrix, and target moments\n",
        "X0, X1 = X[w == 0], X[w == 1].mean(axis = 0)\n",
        "# estimate ATT\n",
        "lbw(X0, X1, y, w, return_weights = False)"
      ]
    },
    {
      "cell_type": "markdown",
      "metadata": {},
      "source": [
        "Applying this to experiments makes little difference since imbalances are small and coincidental."
      ]
    },
    {
      "cell_type": "code",
      "execution_count": 17,
      "metadata": {},
      "outputs": [
        {
          "name": "stdout",
          "output_type": "stream",
          "text": [
            "DiM: = -635.0259\n"
          ]
        },
        {
          "data": {
            "text/plain": [
              "1701.172900724143"
            ]
          },
          "execution_count": 17,
          "metadata": {},
          "output_type": "execute_result"
        }
      ],
      "source": [
        "df = pd.read_stata(\"cps3re74.dta\")\n",
        "yn, wn = \"re78\", \"treat\"\n",
        "xn = df.columns.drop([yn, wn]).tolist()\n",
        "n = df.shape[0]\n",
        "y, w, X = df[yn].values, df[wn].values, np.c_[np.ones(n), df[xn].values]\n",
        "print(\"DiM: =\", y[w == 1].mean() - y[w == 0].mean())\n",
        "# control covariate matrix, and target moments\n",
        "X0, X1 = X[w == 0], X[w == 1].mean(axis = 0)\n",
        "# estimate ATT\n",
        "lbw(X0, X1, y, w, return_weights = False)"
      ]
    },
    {
      "cell_type": "markdown",
      "metadata": {},
      "source": [
        "CPS3 has 'mild' selection bias [Smith and Todd (2005)], so we can get close to experimental estimates with reweighting alone."
      ]
    },
    {
      "cell_type": "code",
      "execution_count": 21,
      "metadata": {},
      "outputs": [
        {
          "name": "stdout",
          "output_type": "stream",
          "text": [
            "DiM: = -15204.775555988717\n"
          ]
        },
        {
          "data": {
            "text/plain": [
              "687.8220530909257"
            ]
          },
          "execution_count": 21,
          "metadata": {},
          "output_type": "execute_result"
        }
      ],
      "source": [
        "df = pd.read_csv(\"lalonde_psid.csv\")\n",
        "yn, wn = \"re78\", \"treat\"\n",
        "xn = df.columns.drop([yn, wn]).tolist()\n",
        "n = df.shape[0]\n",
        "y, w, X = df[yn].values, df[wn].values, np.c_[np.ones(n), df[xn].values]\n",
        "print(\"DiM: =\", y[w == 1].mean() - y[w == 0].mean())\n",
        "# control covariate matrix, and target moments\n",
        "X0, X1 = X[w == 0], X[w == 1].mean(axis = 0)\n",
        "# estimate ATT\n",
        "lbw(X0, X1, y, w, return_weights = False)"
      ]
    },
    {
      "cell_type": "markdown",
      "metadata": {},
      "source": [
        "PSID has worse selection bias, so it is harder to undo with reweighting alone."
      ]
    }
  ],
  "metadata": {
    "colab": {
      "collapsed_sections": [],
      "last_runtime": {
        "build_target": "//research/colab/notebook:notebook_backend",
        "kind": "private"
      },
      "name": "kang_schafer_population_mean.ipynb",
      "provenance": [],
      "version": "0.3.2"
    },
    "kernelspec": {
      "display_name": "metrics",
      "language": "python",
      "name": "python3"
    },
    "language_info": {
      "codemirror_mode": {
        "name": "ipython",
        "version": 3
      },
      "file_extension": ".py",
      "mimetype": "text/x-python",
      "name": "python",
      "nbconvert_exporter": "python",
      "pygments_lexer": "ipython3",
      "version": "3.11.5"
    }
  },
  "nbformat": 4,
  "nbformat_minor": 0
}
